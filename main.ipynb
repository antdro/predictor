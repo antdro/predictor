{
 "cells": [
  {
   "cell_type": "code",
   "execution_count": 165,
   "metadata": {
    "collapsed": true
   },
   "outputs": [],
   "source": [
    "\"\"\"\n",
    "G - goals\n",
    "GA - assists\n",
    "S - shots\n",
    "PAS - passes\n",
    "FK - free kicks\n",
    "COR - corners\n",
    "FC - fouls conceded\n",
    "FS - fouls suffered\n",
    "Y - yellows\n",
    "R - reds\n",
    "PEN - penalties\n",
    "MIN - minutes\n",
    "TA - tackles\n",
    "CLR - clearances\n",
    "SAV - saves\n",
    "GC - goals conceded\n",
    "GK - goals kicks\n",
    "\"\"\";"
   ]
  },
  {
   "cell_type": "code",
   "execution_count": 166,
   "metadata": {
    "collapsed": false,
    "scrolled": false
   },
   "outputs": [],
   "source": [
    "\"\"\"\n",
    "df = collect_data_from_csvs()\n",
    "df = transform_data(df)\n",
    "df = aggregate_features(df)\n",
    "df = add_goals(df)\n",
    "df.dropna(inplace = True)\n",
    "df.reset_index(drop = True, inplace = True)\n",
    "\"\"\";"
   ]
  },
  {
   "cell_type": "code",
   "execution_count": 167,
   "metadata": {
    "collapsed": false
   },
   "outputs": [
    {
     "name": "stdout",
     "output_type": "stream",
     "text": [
      "Using matplotlib backend: Qt5Agg\n"
     ]
    }
   ],
   "source": [
    "import pandas as pd\n",
    "from data_processor import *\n",
    "from modeler import *\n",
    "import numpy as np\n",
    "from sklearn import svm, preprocessing\n",
    "from sklearn.model_selection import GridSearchCV\n",
    "import matplotlib.pyplot as plt\n",
    "import seaborn as sb\n",
    "from sklearn.ensemble import AdaBoostClassifier\n",
    "from sklearn.decomposition import PCA\n",
    "from multiprocessing import Pool\n",
    "import time\n",
    "\n",
    "%matplotlib"
   ]
  },
  {
   "cell_type": "code",
   "execution_count": 168,
   "metadata": {
    "collapsed": true
   },
   "outputs": [],
   "source": [
    "# data = collect_data_from_csvs()\n",
    "# data = transform_data(data)\n",
    "# data = data.dropna(axis = 0)\n",
    "# data = data.sort_values(by = \"kickoff\")\n",
    "# data = data.reset_index(drop = True)"
   ]
  },
  {
   "cell_type": "code",
   "execution_count": 170,
   "metadata": {
    "collapsed": false
   },
   "outputs": [],
   "source": [
    "# data preparation \n",
    "\n",
    "data = pd.read_csv(\"42.csv\", encoding = \"latin1\")\n",
    "prices = \"B365D\"\n",
    "data = scale_and_add_goals_prices(data, prices)\n",
    "\n",
    "remove_fouls = set(data.columns) - set(['FC_d_away', 'FC_d_home', 'FC_m_away', 'FC_m_home', \n",
    "                                             'FS_d_away', 'FS_d_home', 'FS_m_away', 'FS_m_home'])\n",
    "remove_fouls_list = list(remove_fouls)\n",
    "data = data[remove_fouls_list]"
   ]
  },
  {
   "cell_type": "code",
   "execution_count": 172,
   "metadata": {
    "collapsed": false
   },
   "outputs": [
    {
     "data": {
      "text/plain": [
       "{'away': {'attack': [4, 1, 0.75],\n",
       "  'defence': [5, 3, 0.70999999999999996],\n",
       "  'goalkeeper': [3, 2, 0.83999999999999997],\n",
       "  'midfield': [4, 2, 0.76000000000000001]},\n",
       " 'home': {'attack': [4, 1, 0.73999999999999999],\n",
       "  'defence': [5, 3, 0.70999999999999996],\n",
       "  'goalkeeper': [3, 2, 0.81999999999999995],\n",
       "  'midfield': [4, 2, 0.77000000000000002]}}"
      ]
     },
     "execution_count": 172,
     "metadata": {},
     "output_type": "execute_result"
    }
   ],
   "source": [
    "# PCA\n",
    "\n",
    "pca_params = {\n",
    "    \"attack\" : 1,\n",
    "    \"midfield\" : 2, \n",
    "    \"defence\" : 3,\n",
    "    \"goalkeeper\" : 2\n",
    "}\n",
    "\n",
    "data_pca, report = apply_pca_to_positions(data, pca_params)\n",
    "report"
   ]
  },
  {
   "cell_type": "code",
   "execution_count": 173,
   "metadata": {
    "collapsed": false
   },
   "outputs": [],
   "source": [
    "# breaking data by month\n",
    "\n",
    "draws = [1 if draw else 0 for draw in data.HG == data.AG]\n",
    "draws_df = pd.DataFrame(draws, columns = [\"label\"])\n",
    "\n",
    "evens = [1 if residual == 0 else 0 for residual in (data.HG + data.AG) % 2]\n",
    "evens_df = pd.DataFrame(evens, columns = [\"label\"])\n",
    "\n",
    "data_pca_kickoff = pd.concat([data_pca, \n",
    "                              evens_df,\n",
    "                              pd.DataFrame(data[\"kickoff\"])], axis = 1)\n",
    "\n",
    "data_pca_kickoff = convert_kickoff_to_date(data_pca_kickoff)\n",
    "dfs = break_df_by_month(data_pca_kickoff)"
   ]
  },
  {
   "cell_type": "code",
   "execution_count": 174,
   "metadata": {
    "collapsed": false
   },
   "outputs": [],
   "source": [
    "# grid of parameters\n",
    "# 1x1 grid with step 0.01\n",
    "params_grid = {\n",
    "\n",
    "    \"c_g_1x1_100\" : {\"c\" : [val/100.0 for val in range(1, 101, 1)], \"gamma\" : [val/100.0 for val in range(1, 101, 1)]},\n",
    "}"
   ]
  },
  {
   "cell_type": "code",
   "execution_count": 74,
   "metadata": {
    "collapsed": false
   },
   "outputs": [],
   "source": [
    "#calculate_scores(dfs, params_grid)"
   ]
  },
  {
   "cell_type": "code",
   "execution_count": 175,
   "metadata": {
    "collapsed": false
   },
   "outputs": [],
   "source": [
    "# training, prediction and trading with results report\n",
    "\n",
    "scores = [0.51]\n",
    "probs = [0.57, 0.58, 0.59, 0.6]\n",
    "path = \"c_g_1x1_100/\"\n",
    "months = [12, 1, 2, 3, 4, 5]\n",
    "\n",
    "pool = Pool(4)\n",
    "params = [(data, dfs, prices, scores, [prob], path, months) for prob in probs]\n",
    "start = time.time()\n",
    "results = pool.map(trade_and_print_report, params)\n",
    "stop = time.time()\n",
    "print (round(stop - start, 2))"
   ]
  },
  {
   "cell_type": "code",
   "execution_count": 72,
   "metadata": {
    "collapsed": false
   },
   "outputs": [
    {
     "data": {
      "text/plain": [
       "[{(0.51, 0.57, 1): [12, 19, 43, -3.0],\n",
       "  (0.51, 0.57, 2): [7, 16, 29, -20.3],\n",
       "  (0.51, 0.57, 3): [1, 1, 2, 75.0],\n",
       "  (0.51, 0.57, 4): [4, 7, 14, 4.6],\n",
       "  (0.51, 0.57, 5): [3, 4, 5, 100.0],\n",
       "  (0.51, 0.57): {'overall_accuracy': '29.03', 'overall_profit': '-0.05'},\n",
       "  'time': 20822.36},\n",
       " {(0.51, 0.58, 1): [11, 17, 38, 0.5],\n",
       "  (0.51, 0.58, 2): [6, 10, 15, 32.7],\n",
       "  (0.51, 0.58, 3): [1, 1, 2, 75.0],\n",
       "  (0.51, 0.58, 4): [3, 4, 5, 113.0],\n",
       "  (0.51, 0.58, 5): [2, 2, 3, 120.0],\n",
       "  (0.51, 0.58): {'overall_accuracy': '36.51', 'overall_profit': '25.16'},\n",
       "  'time': 20850.24},\n",
       " {(0.51, 0.59, 1): [11, 14, 33, 15.8],\n",
       "  (0.51, 0.59, 2): [5, 9, 12, 37.5],\n",
       "  (0.51, 0.59, 3): [1, 1, 1, 250.0],\n",
       "  (0.51, 0.59, 4): [3, 4, 4, 166.2],\n",
       "  (0.51, 0.59, 5): [1, 1, 2, 55.0],\n",
       "  (0.51, 0.59): {'overall_accuracy': '40.38', 'overall_profit': '38.37'},\n",
       "  'time': 20836.28},\n",
       " {(0.51, 0.6, 1): [11, 14, 32, 19.4],\n",
       "  (0.51, 0.6, 2): [3, 5, 6, 65.0],\n",
       "  (0.51, 0.6, 3): [1, 1, 1, 250.0],\n",
       "  (0.51, 0.6, 4): [3, 4, 4, 166.2],\n",
       "  (0.51, 0.6, 5): [0, 0, 1, -100.0],\n",
       "  (0.51, 0.6): {'overall_accuracy': '40.91', 'overall_profit': '41.48'},\n",
       "  'time': 20829.56}]"
      ]
     },
     "execution_count": 72,
     "metadata": {},
     "output_type": "execute_result"
    }
   ],
   "source": [
    "# results[(score, prob)] = [n_draws, n_evens, n_bets, profit_procent]\n",
    "results"
   ]
  },
  {
   "cell_type": "code",
   "execution_count": 178,
   "metadata": {
    "collapsed": false,
    "scrolled": false
   },
   "outputs": [],
   "source": [
    "# league history and market evaluation\n",
    "\n",
    "fixtures = data\n",
    "cols = ['home', 'away', 'AG', 'HG', 'B365D', 'kickoff']\n",
    "fixtures = fixtures.loc[:, cols].sort_values(by = 'kickoff')\n",
    "\n",
    "month = fixtures[(fixtures.kickoff >= '2017-01-01')]\n",
    "even_goals = month[(month.AG + month.HG) %2 == 0].shape\n",
    "draws = month[(month.AG == month.HG)].shape\n",
    "prices = month.B365D.mean()"
   ]
  }
 ],
 "metadata": {
  "kernelspec": {
   "display_name": "Python 3",
   "language": "python",
   "name": "python3"
  },
  "language_info": {
   "codemirror_mode": {
    "name": "ipython",
    "version": 3
   },
   "file_extension": ".py",
   "mimetype": "text/x-python",
   "name": "python",
   "nbconvert_exporter": "python",
   "pygments_lexer": "ipython3",
   "version": "3.6.0"
  }
 },
 "nbformat": 4,
 "nbformat_minor": 2
}
