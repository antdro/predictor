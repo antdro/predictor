{
 "cells": [
  {
   "cell_type": "code",
   "execution_count": 1,
   "metadata": {
    "collapsed": true
   },
   "outputs": [],
   "source": [
    "\"\"\"\n",
    "G - goals\n",
    "GA - assists\n",
    "S - shots\n",
    "PAS - passes\n",
    "FK - free kicks\n",
    "COR - corners\n",
    "FC - fouls conceded\n",
    "FS - fouls suffered\n",
    "Y - yellows\n",
    "R - reds\n",
    "PEN - penalties\n",
    "MIN - minutes\n",
    "TA - tackles\n",
    "CLR - clearances\n",
    "SAV - saves\n",
    "GC - goals conceded\n",
    "GK - goals kicks\n",
    "\"\"\";"
   ]
  },
  {
   "cell_type": "code",
   "execution_count": 29,
   "metadata": {
    "collapsed": false,
    "scrolled": false
   },
   "outputs": [],
   "source": [
    "\"\"\"\n",
    "df = collect_data_from_csvs()\n",
    "df = transform_data(df)\n",
    "df = aggregate_features(df)\n",
    "df = add_goals(df)\n",
    "df.dropna(inplace = True)\n",
    "df.reset_index(drop = True, inplace = True)\n",
    "\"\"\";"
   ]
  },
  {
   "cell_type": "code",
   "execution_count": 31,
   "metadata": {
    "collapsed": false
   },
   "outputs": [
    {
     "name": "stdout",
     "output_type": "stream",
     "text": [
      "Using matplotlib backend: Qt5Agg\n"
     ]
    }
   ],
   "source": [
    "import pandas as pd\n",
    "from data_processor import *\n",
    "from modeler import *\n",
    "import numpy as np\n",
    "from sklearn import svm, preprocessing\n",
    "from sklearn.model_selection import GridSearchCV\n",
    "import matplotlib.pyplot as plt\n",
    "import seaborn as sb\n",
    "from sklearn.ensemble import AdaBoostClassifier\n",
    "\n",
    "%matplotlib"
   ]
  },
  {
   "cell_type": "code",
   "execution_count": 143,
   "metadata": {
    "collapsed": true
   },
   "outputs": [],
   "source": [
    "test_score = 0.53\n",
    "prob = 0.53\n",
    "params_grid = None"
   ]
  },
  {
   "cell_type": "code",
   "execution_count": 166,
   "metadata": {
    "collapsed": false
   },
   "outputs": [],
   "source": [
    "df = pd.read_csv(\"data.csv\", encoding = \"latin1\")\n",
    "df = convert_kickoff_to_date(df)"
   ]
  },
  {
   "cell_type": "code",
   "execution_count": 145,
   "metadata": {
    "collapsed": false
   },
   "outputs": [],
   "source": [
    "dfs = break_df_by_month(df)\n",
    "dfs = preprocess_data(dfs, \"even\")"
   ]
  },
  {
   "cell_type": "code",
   "execution_count": 16,
   "metadata": {
    "collapsed": true
   },
   "outputs": [],
   "source": [
    "calculate_scores(dfs, params_grid)"
   ]
  },
  {
   "cell_type": "code",
   "execution_count": 170,
   "metadata": {
    "collapsed": true
   },
   "outputs": [],
   "source": [
    "path = \"\""
   ]
  },
  {
   "cell_type": "code",
   "execution_count": 163,
   "metadata": {
    "collapsed": false
   },
   "outputs": [],
   "source": [
    "months = range(2, 6)"
   ]
  },
  {
   "cell_type": "code",
   "execution_count": 164,
   "metadata": {
    "collapsed": false
   },
   "outputs": [],
   "source": [
    "learn_df = pd.concat([dfs[8], dfs[9], dfs[10], dfs[11], dfs[12], dfs[1]])"
   ]
  },
  {
   "cell_type": "code",
   "execution_count": 165,
   "metadata": {
    "collapsed": false
   },
   "outputs": [
    {
     "name": "stdout",
     "output_type": "stream",
     "text": [
      "month: 2\n",
      "6 draws out of 23\n",
      "13 even goals out of 23\n",
      "\n",
      "\n",
      "month: 3\n",
      "2 draws out of 6\n",
      "1 even goals out of 6\n",
      "\n",
      "\n",
      "month: 4\n",
      "19 draws out of 65\n",
      "33 even goals out of 65\n",
      "\n",
      "\n",
      "month: 5\n",
      "0 draws out of 1\n",
      "1 even goals out of 1\n",
      "\n",
      "\n"
     ]
    }
   ],
   "source": [
    "for month in months:\n",
    "    predict_df = dfs[month]\n",
    "    \n",
    "    data_learn = learn_df.iloc[:, :-1]\n",
    "    target_learn = learn_df.iloc[:, -1]\n",
    "\n",
    "    data_predict = predict_df.iloc[:, :-1]\n",
    "    target_predict = predict_df.iloc[:, -1]\n",
    "    \n",
    "    params = get_best_params(path + str(month - 1) + \".csv\", test_score)\n",
    "    \n",
    "    indeces = get_all_predictions_by_best_params(params, data_learn, target_learn, data_predict, target_predict, prob)\n",
    "    indeces = list(set(indeces))\n",
    "    \n",
    "    learn_df = pd.concat([learn_df, predict_df])\n",
    "    \n",
    "    bets_df = df.loc[indeces, :]\n",
    "\n",
    "    n_bets = bets_df.shape[0]\n",
    "    n_draws = bets_df[bets_df.HG == bets_df.AG].shape[0]\n",
    "    n_evens = sum((bets_df.HG + bets_df.AG) % 2)\n",
    "    \n",
    "    print (\"month: \" + str(month))\n",
    "    print (str(n_draws) + \" draws out of \" + str(n_bets))\n",
    "    print (str(n_evens) + \" even goals out of \" + str(n_bets))\n",
    "    print (\"\\n\")"
   ]
  }
 ],
 "metadata": {
  "kernelspec": {
   "display_name": "Python 3",
   "language": "python",
   "name": "python3"
  },
  "language_info": {
   "codemirror_mode": {
    "name": "ipython",
    "version": 3
   },
   "file_extension": ".py",
   "mimetype": "text/x-python",
   "name": "python",
   "nbconvert_exporter": "python",
   "pygments_lexer": "ipython3",
   "version": "3.6.0"
  }
 },
 "nbformat": 4,
 "nbformat_minor": 2
}
