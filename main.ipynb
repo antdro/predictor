{
 "cells": [
  {
   "cell_type": "code",
   "execution_count": 25,
   "metadata": {
    "collapsed": true
   },
   "outputs": [],
   "source": [
    "\"\"\"\n",
    "G - goals\n",
    "GA - assists\n",
    "S - shots\n",
    "PAS - passes\n",
    "FK - free kicks\n",
    "COR - corners\n",
    "FC - fouls conceded\n",
    "FS - fouls suffered\n",
    "Y - yellows\n",
    "R - reds\n",
    "PEN - penalties\n",
    "MIN - minutes\n",
    "TA - tackles\n",
    "CLR - clearances\n",
    "SAV - saves\n",
    "GC - goals conceded\n",
    "GK - goals kicks\n",
    "\"\"\";"
   ]
  },
  {
   "cell_type": "code",
   "execution_count": 26,
   "metadata": {
    "collapsed": false,
    "scrolled": false
   },
   "outputs": [],
   "source": [
    "\"\"\"\n",
    "df = collect_data_from_csvs()\n",
    "df = transform_data(df)\n",
    "df = aggregate_features(df)\n",
    "df = add_goals(df)\n",
    "df.dropna(inplace = True)\n",
    "df.reset_index(drop = True, inplace = True)\n",
    "\"\"\";"
   ]
  },
  {
   "cell_type": "code",
   "execution_count": 3,
   "metadata": {
    "collapsed": false
   },
   "outputs": [
    {
     "name": "stdout",
     "output_type": "stream",
     "text": [
      "Using matplotlib backend: Qt5Agg\n"
     ]
    }
   ],
   "source": [
    "import pandas as pd\n",
    "from data_processor import *\n",
    "from modeler import *\n",
    "import numpy as np\n",
    "from sklearn import svm, preprocessing\n",
    "from sklearn.model_selection import GridSearchCV\n",
    "import matplotlib.pyplot as plt\n",
    "import seaborn as sb\n",
    "from sklearn.ensemble import AdaBoostClassifier\n",
    "from sklearn.decomposition import PCA\n",
    "\n",
    "%matplotlib"
   ]
  },
  {
   "cell_type": "code",
   "execution_count": 4,
   "metadata": {
    "collapsed": true
   },
   "outputs": [],
   "source": [
    "# data = collect_data_from_csvs()\n",
    "# data = transform_data(data)\n",
    "# data = data.dropna(axis = 0)\n",
    "# data = data.sort_values(by = \"kickoff\")\n",
    "# data = data.reset_index(drop = True)"
   ]
  },
  {
   "cell_type": "code",
   "execution_count": 4,
   "metadata": {
    "collapsed": false
   },
   "outputs": [],
   "source": [
    "data = pd.read_csv(\"42.csv\", encoding = \"latin1\")\n",
    "prices = \"B365D\"\n",
    "data = scale_and_add_goals_prices(data, prices)"
   ]
  },
  {
   "cell_type": "code",
   "execution_count": 5,
   "metadata": {
    "collapsed": false
   },
   "outputs": [],
   "source": [
    "remove_fouls = set(data.columns) - set(['FC_d_away', 'FC_d_home', 'FC_m_away', 'FC_m_home', \n",
    "                                             'FS_d_away', 'FS_d_home', 'FS_m_away', 'FS_m_home'])\n",
    "remove_fouls_list = list(remove_fouls)\n",
    "data = data[remove_fouls_list]"
   ]
  },
  {
   "cell_type": "code",
   "execution_count": 6,
   "metadata": {
    "collapsed": true
   },
   "outputs": [],
   "source": [
    "pca_params = {\n",
    "    \"attack\" : 1,\n",
    "    \"midfield\" : 2, \n",
    "    \"defence\" : 3,\n",
    "    \"goalkeeper\" : 2\n",
    "}"
   ]
  },
  {
   "cell_type": "code",
   "execution_count": 7,
   "metadata": {
    "collapsed": false
   },
   "outputs": [
    {
     "data": {
      "text/plain": [
       "{'away': {'attack': [4, 1, 0.75],\n",
       "  'defence': [5, 3, 0.70999999999999996],\n",
       "  'goalkeeper': [3, 2, 0.83999999999999997],\n",
       "  'midfield': [4, 2, 0.76000000000000001]},\n",
       " 'home': {'attack': [4, 1, 0.73999999999999999],\n",
       "  'defence': [5, 3, 0.70999999999999996],\n",
       "  'goalkeeper': [3, 2, 0.81999999999999995],\n",
       "  'midfield': [4, 2, 0.77000000000000002]}}"
      ]
     },
     "execution_count": 7,
     "metadata": {},
     "output_type": "execute_result"
    }
   ],
   "source": [
    "data_pca, report = apply_pca_to_positions(data, pca_params)\n",
    "report"
   ]
  },
  {
   "cell_type": "code",
   "execution_count": 23,
   "metadata": {
    "collapsed": false
   },
   "outputs": [],
   "source": [
    "draws = [1 if draw else 0 for draw in data.HG == data.AG]\n",
    "draws_df = pd.DataFrame(draws, columns = [\"draw\"])\n",
    "\n",
    "data_pca_kickoff = pd.concat([data_pca, \n",
    "                              draws_df,\n",
    "                              pd.DataFrame(data[\"kickoff\"])], axis = 1)\n",
    "\n",
    "data_pca_kickoff = convert_kickoff_to_date(data_pca_kickoff)\n",
    "dfs = break_df_by_month(data_pca_kickoff)"
   ]
  },
  {
   "cell_type": "code",
   "execution_count": 23,
   "metadata": {
    "collapsed": false
   },
   "outputs": [],
   "source": [
    "# params_grid = {\n",
    "\n",
    "#     \"c1x10_g1x10\" : {\"c\" : [val/10.0 for val in range(1, 101, 1)], \"gamma\" : [val/10.0 for val in range(1, 101, 1)]},\n",
    "# }"
   ]
  },
  {
   "cell_type": "code",
   "execution_count": 17,
   "metadata": {
    "collapsed": false
   },
   "outputs": [],
   "source": [
    "#calculate_scores(dfs, params_grid)"
   ]
  },
  {
   "cell_type": "code",
   "execution_count": 18,
   "metadata": {
    "collapsed": true
   },
   "outputs": [],
   "source": [
    "scores = [0.52]\n",
    "probs = [0.54, 0.55]\n",
    "\n",
    "path = \"\"\n",
    "months = range(2, 4)"
   ]
  },
  {
   "cell_type": "code",
   "execution_count": 24,
   "metadata": {
    "collapsed": false
   },
   "outputs": [],
   "source": [
    "# trade_and_print_report(dfs, scores, probs, path, months)"
   ]
  }
 ],
 "metadata": {
  "kernelspec": {
   "display_name": "Python 3",
   "language": "python",
   "name": "python3"
  },
  "language_info": {
   "codemirror_mode": {
    "name": "ipython",
    "version": 3
   },
   "file_extension": ".py",
   "mimetype": "text/x-python",
   "name": "python",
   "nbconvert_exporter": "python",
   "pygments_lexer": "ipython3",
   "version": "3.6.0"
  }
 },
 "nbformat": 4,
 "nbformat_minor": 2
}
